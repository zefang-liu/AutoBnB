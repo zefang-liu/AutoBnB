{
 "cells": [
  {
   "cell_type": "markdown",
   "metadata": {},
   "source": [
    "# AutoGen for Backdoors & Breaches"
   ]
  },
  {
   "cell_type": "code",
   "execution_count": null,
   "metadata": {},
   "outputs": [],
   "source": [
    "import os\n",
    "import json\n",
    "import random\n",
    "from typing import List, Dict, Union\n",
    "\n",
    "seed = 0\n",
    "random.seed(seed)"
   ]
  },
  {
   "cell_type": "code",
   "execution_count": null,
   "metadata": {},
   "outputs": [],
   "source": [
    "OPENAI_API_KEY = os.environ.get('OPENAI_API_KEY')\n",
    "llm_config = {\"config_list\": [{\"model\": \"gpt-4o\", \"api_key\": OPENAI_API_KEY}], \"temperature\": 1.0}"
   ]
  },
  {
   "cell_type": "markdown",
   "metadata": {},
   "source": [
    "## Defining Tools¶"
   ]
  },
  {
   "cell_type": "markdown",
   "metadata": {},
   "source": [
    "### Loading Cards"
   ]
  },
  {
   "cell_type": "code",
   "execution_count": null,
   "metadata": {},
   "outputs": [],
   "source": [
    "# Load the cards from the JSON file\n",
    "with open(\"cards.json\", \"r\") as file:\n",
    "    bnb_cards = json.load(file)[\"data\"]"
   ]
  },
  {
   "cell_type": "code",
   "execution_count": null,
   "metadata": {
    "scrolled": true
   },
   "outputs": [],
   "source": [
    "bnb_cards[0]"
   ]
  },
  {
   "cell_type": "markdown",
   "metadata": {},
   "source": [
    "### Drawing Incidents"
   ]
  },
  {
   "cell_type": "code",
   "execution_count": null,
   "metadata": {},
   "outputs": [],
   "source": [
    "def draw_incident_cards() -> str:\n",
    "    \"\"\"\n",
    "    Draws one incident card from each required type: INITIAL COMPROMISE, PIVOT and ESCALATE, C2 and EXFIL, and PERSISTENCE.\n",
    "    \n",
    "    :return: A formatted string listing the name, description, and detection methods of one card from each required type.\n",
    "    \"\"\"\n",
    "    required_types = {\n",
    "        \"INITIAL COMPROMISE\": \"initial\",\n",
    "        \"PIVOT and ESCALATE\": \"pivot\",\n",
    "        \"C2 and EXFIL\": \"c2\",\n",
    "        \"PERSISTENCE\": \"persist\"\n",
    "    }\n",
    "    selected_cards_info = []\n",
    "\n",
    "    for category, card_type in required_types.items():\n",
    "        type_cards = [card for card in bnb_cards if card[\"type\"] == card_type]\n",
    "        \n",
    "        if type_cards:\n",
    "            selected_card = random.choice(type_cards)\n",
    "            card_info = (\n",
    "                f\"Category: {category}\\n\"\n",
    "                f\"Name: {selected_card['name']}\\n\"\n",
    "                f\"Description: {selected_card['description']}\\n\"\n",
    "                f\"Detection Procedures: {', '.join(selected_card['detection'])}\"\n",
    "            )\n",
    "            selected_cards_info.append(card_info)\n",
    "    \n",
    "    return \"\\n\\n\".join(selected_cards_info)"
   ]
  },
  {
   "cell_type": "code",
   "execution_count": null,
   "metadata": {},
   "outputs": [],
   "source": [
    "incident_cards = draw_incident_cards()\n",
    "print(incident_cards)"
   ]
  },
  {
   "cell_type": "markdown",
   "metadata": {},
   "source": [
    "### Drawing Procedures"
   ]
  },
  {
   "cell_type": "code",
   "execution_count": null,
   "metadata": {},
   "outputs": [],
   "source": [
    "def draw_procedure_cards() -> str:\n",
    "    \"\"\"\n",
    "    Draws 4 random Procedure cards to establish the 'Established Procedures' and places the remaining cards as 'Other Procedures'.\n",
    "    \n",
    "    :return: A formatted string listing the established procedures and other procedures.\n",
    "    \"\"\"\n",
    "    procedure_cards = [card for card in bnb_cards if card[\"type\"] == \"procedure\"]\n",
    "    established_procedures = random.sample(procedure_cards, 4)\n",
    "    other_procedures = [card for card in procedure_cards if card not in established_procedures]\n",
    "    \n",
    "    established_info = [\"Established Procedures (+3 modifier):\"]\n",
    "    for card in established_procedures:\n",
    "        card_info = (\n",
    "            f\"Name: {card['name']}\\n\"\n",
    "            f\"Description: {card['description']}\"\n",
    "        )\n",
    "        established_info.append(card_info)\n",
    "    \n",
    "    other_info = [\"Other Procedures (+0 modifier):\"]\n",
    "    for card in other_procedures:\n",
    "        card_info = (\n",
    "            f\"Name: {card['name']}\\n\"\n",
    "            f\"Description: {card['description']}\"\n",
    "        )\n",
    "        other_info.append(card_info)\n",
    "    \n",
    "    return \"\\n\\n\".join(established_info) + \"\\n\\n\" + \"\\n\\n\".join(other_info)"
   ]
  },
  {
   "cell_type": "code",
   "execution_count": null,
   "metadata": {},
   "outputs": [],
   "source": [
    "procedure_cards = draw_procedure_cards()\n",
    "print(procedure_cards)"
   ]
  },
  {
   "cell_type": "markdown",
   "metadata": {},
   "source": [
    "## Initializing Agents"
   ]
  },
  {
   "cell_type": "markdown",
   "metadata": {},
   "source": [
    "### Defining the Sequence"
   ]
  },
  {
   "cell_type": "code",
   "execution_count": null,
   "metadata": {},
   "outputs": [],
   "source": [
    "sequence_of_play = (\n",
    "    \"Sequence of Play:\\n\\n\"\n",
    "    \n",
    "    \"1. Set the Scenario:\\n\"\n",
    "    \"   - Select one card for each of the four attack stages (Initial Compromise, Pivot and Escalate, C2 and Exfil, Persistence).\\n\"\n",
    "    \"   - Craft a detailed initial scenario description based on the chosen Initial Compromise card. Provide enough context \"\n",
    "    \"for the Defenders to understand the breach, but avoid revealing any specific details or names from the Attack cards.\\n\\n\"\n",
    "    \n",
    "    \"2. Introduce the Defenders to the available Procedure cards:\\n\"\n",
    "    \"   - Explain the distinction between Established Procedures (with a +3 modifier) and Other Procedures (with a +0 modifier).\\n\"\n",
    "    \"   - Inform the Defenders of the initial setup, including which procedures are classified as Established vs. Other. \"\n",
    "    \"Note that certain procedures may shift between these categories during gameplay.\\n\\n\"\n",
    "    \n",
    "    \"3. Start Each Turn (Turn 1 to Turn 10):\\n\"\n",
    "    \"   - At the beginning of each turn, announce the current turn number to the Defenders.\\n\"\n",
    "    \"   - Remind Defenders of any Procedure cards on cooldown and therefore unavailable for selection. \"\n",
    "    \"Notify them of any changes in which procedures are classified as Established vs. Other (modifier changes).\\n\"\n",
    "    \"   - Track the number of consecutive failures. If an Inject is triggered by three consecutive failures, draw an Inject card.\\n\"\n",
    "    \"   - Prompt the Defenders to discuss and select one Procedure card to use for this turn.\\n\\n\"\n",
    "    \n",
    "    \"4. Defenders’ Procedure Attempt:\\n\"\n",
    "    \"   - When the Defenders choose a Procedure, roll a 20-sided dice to determine if their attempt succeeds. \"\n",
    "    \"Apply the appropriate modifier based on the type of Procedure selected:\\n\"\n",
    "    \"      - Established Procedure: +3 modifier to the roll.\\n\"\n",
    "    \"      - Other Procedure: +0 modifier to the roll.\\n\"\n",
    "    \"   - With the modifier applied, determine success or failure:\\n\"\n",
    "    \"      - Adjusted Roll 11 or higher: The attempt is successful.\\n\"\n",
    "    \"      - Adjusted Roll 10 or lower: The attempt fails.\\n\\n\"\n",
    "    \n",
    "    \"5. Respond to Success or Failure:\\n\"\n",
    "    \"   - On Success: Check if the Procedure used is listed under the 'Detection' methods for any of the hidden attack cards.\\n\"\n",
    "    \"      - If it matches, reveal that specific attack card to the Defenders.\\n\"\n",
    "    \"      - If multiple attack cards can be detected by the same Procedure, reveal only one and tell the Defenders they've detected \"\n",
    "    \"a part of the breach.\\n\"\n",
    "    \"      - Reset the consecutive failure count to zero on a success.\\n\"\n",
    "    \"   - On Failure: Increase the consecutive failure count by one. Provide feedback noting that the Procedure did not reveal anything new.\\n\\n\"\n",
    "    \n",
    "    \"6. Triggering an Inject Event (Optional):\\n\"\n",
    "    \"   - Draw an Inject card only if any of the following specific conditions are met:\\n\"\n",
    "    \"      - A natural roll of 1 or 20 occurs (before any modifiers are applied to the dice roll), or\\n\"\n",
    "    \"      - Three consecutive procedure attempts have failed.\\n\"\n",
    "    \"   - When an Inject is triggered, draw one card from the Inject pile and reveal it to all players.\\n\"\n",
    "    \"   - Follow the instructions on the Inject card, execute its effects, and inform the Defenders of the outcomes. \"\n",
    "    \"Ensure they understand how the Inject impacts their investigation.\\n\\n\"\n",
    "    \n",
    "    \"7. End Turn:\\n\"\n",
    "    \"   - Mark the Procedure card as used and enforce a cooldown period of 3 turns for that card.\\n\"\n",
    "    \"   - Track the turn count, ensuring the game does not exceed 10 turns.\\n\\n\"\n",
    "    \n",
    "    \"8. End Game:\\n\"\n",
    "    \"   - Victory: If Defenders reveal all four hidden attack cards within 10 turns, announce that they have successfully uncovered the breach.\\n\"\n",
    "    \"   - Loss: If the Defenders fail to reveal all attack cards by the end of the 10th turn, announce that the breach went undetected.\\n\"\n",
    "    \"   - Save a detailed game summary in JSON format, capturing all key game events and results.\\n\"\n",
    "    \"   - Type the keyword 'END_GAME' to officially conclude the game.\"\n",
    ")"
   ]
  },
  {
   "cell_type": "code",
   "execution_count": null,
   "metadata": {},
   "outputs": [],
   "source": [
    "print(sequence_of_play)"
   ]
  },
  {
   "cell_type": "markdown",
   "metadata": {},
   "source": [
    "### Initializing the Incident Captain"
   ]
  },
  {
   "cell_type": "code",
   "execution_count": null,
   "metadata": {},
   "outputs": [],
   "source": [
    "from autogen import ConversableAgent"
   ]
  },
  {
   "cell_type": "code",
   "execution_count": null,
   "metadata": {},
   "outputs": [],
   "source": [
    "incident_captain = ConversableAgent(\n",
    "    name=\"Incident_Captain\",\n",
    "    system_message=(\n",
    "        \"Welcome to Backdoors & Breaches! You are the Incident Captain, responsible for guiding the \"\n",
    "        \"Defenders through a simulated cyber breach scenario. Your role is to control the game, craft the \"\n",
    "        \"attack scenario, and provide guidance as Defenders attempt to detect and counter the breach.\\n\\n\"\n",
    "        \n",
    "        \"Your responsibilities include:\\n\"\n",
    "        \"- Selecting four hidden attack cards to define the breach scenario. These cards represent each stage: \"\n",
    "        \"Initial Compromise, Pivot and Escalate, Command and Control, and Persistence.\\n\"\n",
    "        \"- Introducing the available Procedure cards (Established and Other) and explaining their roles and modifiers.\\n\"\n",
    "        \"- Tracking and managing game mechanics, including Procedure card cooldowns, modifier applications, and turn count.\\n\"\n",
    "        \"- Answering Defenders' questions or clarifying the scenario when asked, giving hints where appropriate.\\n\"\n",
    "        \"- Monitoring Defenders' actions and introducing injects (unexpected challenges) when triggered by certain conditions, such as critical failures.\\n\"\n",
    "        \"- Keeping the game within the 10-turn limit and ensuring Defenders have the context and support needed to achieve their objectives.\\n\\n\"\n",
    "        \n",
    "        f\"{sequence_of_play}\\n\\n\"\n",
    "        \n",
    "        \"Throughout the game, maintain the flow, stay in character, and guide Defenders with clarity. \" \\\n",
    "        \"Remind them of the cooldown status of procedures, modifier categories, and any shifts in procedure types. \"\n",
    "        \"Do not reveal any hidden attack details unless their actions specifically uncover them. Let’s begin!\\n\\n\"\n",
    "        \n",
    "        f\"{'-' * 80}\\n\\n\"\n",
    "        f\"The hidden attack cards for this game scenario are as follows:\\n\\n{incident_cards}\\n\\n\"\n",
    "        f\"{'-' * 80}\\n\\n\"\n",
    "        f\"The available procedure cards are divided into Established and Other Procedures:\\n\\n{procedure_cards}\\n\\n\"\n",
    "        f\"{'-' * 80}\"\n",
    "    ),\n",
    "    description=(\n",
    "        \"Oversees the Backdoors & Breaches game. Responsible for setting up the breach scenario, \"\n",
    "        \"managing game events, and providing guidance to Defenders as they attempt to uncover hidden attack stages. \"\n",
    "        \"Ensures gameplay runs smoothly and that Defenders stay engaged and on task.\"\n",
    "    ),\n",
    "    llm_config=llm_config,\n",
    "    human_input_mode=\"NEVER\",\n",
    "    is_termination_msg=lambda msg: \"END_GAME\" in msg[\"content\"],\n",
    ")"
   ]
  },
  {
   "cell_type": "code",
   "execution_count": null,
   "metadata": {},
   "outputs": [],
   "source": [
    "print(incident_captain.system_message)"
   ]
  },
  {
   "cell_type": "code",
   "execution_count": null,
   "metadata": {},
   "outputs": [],
   "source": [
    "print(incident_captain.description)"
   ]
  },
  {
   "cell_type": "markdown",
   "metadata": {},
   "source": [
    "### Loading Defender Roles"
   ]
  },
  {
   "cell_type": "code",
   "execution_count": null,
   "metadata": {},
   "outputs": [],
   "source": [
    "# Load the roles from the JSON file\n",
    "with open(\"roles.json\", \"r\") as file:\n",
    "    defender_roles = json.load(file)"
   ]
  },
  {
   "cell_type": "code",
   "execution_count": null,
   "metadata": {
    "scrolled": true
   },
   "outputs": [],
   "source": [
    "defender_roles.keys()"
   ]
  },
  {
   "cell_type": "markdown",
   "metadata": {},
   "source": [
    "### Generating System Messages"
   ]
  },
  {
   "cell_type": "code",
   "execution_count": null,
   "metadata": {},
   "outputs": [],
   "source": [
    "def generate_system_message(role_name, role_data):\n",
    "    \"\"\"\n",
    "    Generate the system message for a defender based on their role.\n",
    "    \"\"\"\n",
    "    role_responsibilities = '\\n'.join(['- ' + resp for resp in role_data['responsibilities']])\n",
    "    return (\n",
    "        f\"Welcome to Backdoors & Breaches! You are a {role_name}. In this game, Defenders collaborate to uncover hidden stages \"\n",
    "        \"of a simulated cyber attack. Your goal, along with the other Defenders, is to work together to identify and reveal four hidden attack \"\n",
    "        \"cards within 10 turns to win the game. Each attack card represents a critical stage in the breach process that attackers might use against your organization.\\n\\n\"\n",
    "        \n",
    "        \"Game Overview:\\n\"\n",
    "        \"The game begins with the Incident Captain setting up the scenario by selecting four hidden attack cards representing the stages of a breach: \"\n",
    "        \"Initial Compromise, Pivot and Escalate, Command and Control (C2), and Persistence. Defenders take turns selecting Procedure cards to investigate \"\n",
    "        \"and uncover these stages. Procedure cards are divided into Established cards, which provide a +3 modifier to dice rolls, and Other cards, which do not provide modifiers. \"\n",
    "        \"Each turn, the team selects one Procedure card, rolls a 20-sided dice, and applies any modifiers to determine success or failure.\\n\\n\"\n",
    "        \n",
    "        \"Game Mechanics:\\n\"\n",
    "        \"- Procedure Cards: Represent investigative approaches. Established cards have a +3 modifier, while Other cards have no modifier.\\n\"\n",
    "        \"- Dice Rolling: After selecting a Procedure, roll a 20-sided dice and apply the modifier. \"\n",
    "        \"A final roll of 11 or higher results in success, while 10 or lower results in failure.\\n\"\n",
    "        \"- Outcomes: Success reveals a hidden attack card if the Procedure matches its detection methods. \"\n",
    "        \"Failures contribute to a consecutive failure count, which may trigger Inject events, introducing unexpected challenges.\\n\"\n",
    "        \"- Cooldown Period: After a Procedure card is used, regardless of the outcome, it enters a 3-turn cooldown period during which it cannot be selected again.\\n\\n\"\n",
    "        \n",
    "        f\"Your Responsibilities as a {role_name}:\\n\"\n",
    "        \"- Collaborate with your teammates to analyze the scenario and decide the most effective Procedures to use each turn.\\n\"\n",
    "        \"- Provide your insights, expertise, or support based on your specific role and knowledge level.\\n\"\n",
    "        \"- Stay engaged, communicate effectively, and contribute to the success of your team.\\n\"\n",
    "        \"- Adapt to new information, including the outcomes of Procedure attempts and any Inject events introduced during the game.\\n\"\n",
    "        f\"{role_responsibilities}\\n\\n\"\n",
    "        \n",
    "        \"Victory Condition:\\n\"\n",
    "        \"The Defenders win by successfully uncovering all four attack cards within 10 turns. If the Defenders fail to do so, the breach remains undetected, \"\n",
    "        \"and the game is lost.\\n\\n\"\n",
    "        \n",
    "        \"Your role is crucial to the team's success. Work together, strategize effectively, and let's uncover the breach!\"\n",
    "    )"
   ]
  },
  {
   "cell_type": "code",
   "execution_count": null,
   "metadata": {},
   "outputs": [],
   "source": [
    "print(generate_system_message(role_name='Team Leader', role_data=defender_roles['Team Leader']))"
   ]
  },
  {
   "cell_type": "markdown",
   "metadata": {},
   "source": [
    "### Initializing the Defenders"
   ]
  },
  {
   "cell_type": "code",
   "execution_count": null,
   "metadata": {},
   "outputs": [],
   "source": [
    "team_structures = {\n",
    "    \"Homogeneous Centralized\": {\n",
    "        \"Team Leader\": 1,\n",
    "        \"Team Member\": 4,\n",
    "    },\n",
    "    \"Heterogeneous Centralized\": {\n",
    "        \"Team Leader\": 1,\n",
    "        \"Endpoint Security Expert\": 1,\n",
    "        \"Network Traffic Analysis Expert\": 1,\n",
    "        \"Log and Behavioral Analysis Expert\": 1,\n",
    "        \"Deception and Containment Expert\": 1,\n",
    "    },\n",
    "    \"Homogeneous Decentralized\": {\n",
    "        \"Team Member\": 5,\n",
    "    },\n",
    "    \"Heterogeneous Decentralized\": {\n",
    "        \"Endpoint Security Expert\": 1,\n",
    "        \"Network Traffic Analysis Expert\": 1,\n",
    "        \"Log and Behavioral Analysis Expert\": 1,\n",
    "        \"Deception and Containment Expert\": 1,\n",
    "        \"Incident Response Expert\": 1\n",
    "    },\n",
    "    \"Homogeneous Hybrid\": {\n",
    "        \"Expert\": 3,\n",
    "        \"Beginner\": 2,\n",
    "    },\n",
    "    \"Heterogeneous Hybrid\": {\n",
    "        \"Endpoint Security Expert\": 1,\n",
    "        \"Network Traffic Analysis Expert\": 1,\n",
    "        \"Log and Behavioral Analysis Expert\": 1,\n",
    "        \"Beginner\": 2,\n",
    "    }\n",
    "}"
   ]
  },
  {
   "cell_type": "code",
   "execution_count": null,
   "metadata": {},
   "outputs": [],
   "source": [
    "def create_defender_agents(team_structure_name, defender_roles, team_structures):\n",
    "    \"\"\"\n",
    "    Create defender agents based on the specified team structure.\n",
    "    \"\"\"\n",
    "    if team_structure_name not in team_structures:\n",
    "        raise ValueError(f\"Unknown team structure: {team_structure_name}\")\n",
    "\n",
    "    structure = team_structures[team_structure_name]\n",
    "    defenders = []\n",
    "\n",
    "    for role_name, count in structure.items():\n",
    "        for i in range(count):\n",
    "            if count == 1:\n",
    "                agent_name = f\"{role_name} Defender\"\n",
    "            else:\n",
    "                agent_name = f\"{role_name} Defender {i + 1}\"\n",
    "            system_message = generate_system_message(agent_name, defender_roles[role_name])\n",
    "            defender = ConversableAgent(\n",
    "                name=agent_name.replace(' ', '_'),\n",
    "                system_message=system_message,\n",
    "                description=defender_roles[role_name][\"description\"],\n",
    "                llm_config=llm_config,\n",
    "                human_input_mode=\"NEVER\"\n",
    "            )\n",
    "            defenders.append(defender)\n",
    "\n",
    "    return defenders"
   ]
  },
  {
   "cell_type": "code",
   "execution_count": null,
   "metadata": {},
   "outputs": [],
   "source": [
    "team_structure_name = \"Homogeneous Centralized\"\n",
    "defenders = create_defender_agents(\n",
    "    team_structure_name=team_structure_name,\n",
    "    defender_roles=defender_roles,\n",
    "    team_structures=team_structures,\n",
    ")"
   ]
  },
  {
   "cell_type": "code",
   "execution_count": null,
   "metadata": {},
   "outputs": [],
   "source": [
    "for defender in defenders:\n",
    "    print('=' * 80)\n",
    "    print(defender.name)\n",
    "    print('-' * 80)\n",
    "    print(defender.system_message)\n",
    "    print('-' * 80)\n",
    "    print(defender.description)\n",
    "    print('=' * 80)"
   ]
  },
  {
   "cell_type": "markdown",
   "metadata": {},
   "source": [
    "## Defining More Tools"
   ]
  },
  {
   "cell_type": "markdown",
   "metadata": {},
   "source": [
    "### Drawing an Injection"
   ]
  },
  {
   "cell_type": "code",
   "execution_count": null,
   "metadata": {},
   "outputs": [],
   "source": [
    "def draw_inject_card() -> str:\n",
    "    \"\"\"\n",
    "    Draws a random Injection Card from the available cards.\n",
    "    \n",
    "    :return: A formatted string listing the name, description, and any additional details of the drawn inject card.\n",
    "    \"\"\"\n",
    "    inject_cards = [card for card in bnb_cards if card[\"type\"] == \"inject\"]\n",
    "    selected_card = random.choice(inject_cards)\n",
    "    \n",
    "    inject_card_info = (\n",
    "        f\"Inject Card:\\n\"\n",
    "        f\"Name: {selected_card['name']}\\n\"\n",
    "        f\"Description: {selected_card['description']}\"\n",
    "    )\n",
    "    \n",
    "    return inject_card_info"
   ]
  },
  {
   "cell_type": "code",
   "execution_count": null,
   "metadata": {},
   "outputs": [],
   "source": [
    "print(draw_inject_card())"
   ]
  },
  {
   "cell_type": "markdown",
   "metadata": {},
   "source": [
    "### Rolling a Dice"
   ]
  },
  {
   "cell_type": "code",
   "execution_count": null,
   "metadata": {},
   "outputs": [],
   "source": [
    "def roll_dice() -> int:\n",
    "    \"\"\"\n",
    "    Rolls a 20-sided dice and returns the result.\n",
    "\n",
    "    :return: A random integer between 1 and 20, inclusive, representing the dice roll outcome.\n",
    "    \"\"\"\n",
    "    return random.randint(1, 20)"
   ]
  },
  {
   "cell_type": "code",
   "execution_count": null,
   "metadata": {},
   "outputs": [],
   "source": [
    "roll_dice()"
   ]
  },
  {
   "cell_type": "markdown",
   "metadata": {},
   "source": [
    "### Saving Results"
   ]
  },
  {
   "cell_type": "code",
   "execution_count": null,
   "metadata": {},
   "outputs": [],
   "source": [
    "base_filename = f\"{team_structure_name}_{seed}\".replace(' ', '_').lower()\n",
    "print(base_filename)"
   ]
  },
  {
   "cell_type": "code",
   "execution_count": null,
   "metadata": {},
   "outputs": [],
   "source": [
    "def save_game_results(\n",
    "    incident_cards: List[str],\n",
    "    procedure_cards: Dict[str, List[str]],\n",
    "    turn_results: List[Dict[str, Union[int, str, bool]]],\n",
    "    final_result: str,\n",
    "    defenders: List[str],\n",
    ") -> str:\n",
    "    \"\"\"\n",
    "    Save the game results to a JSON file in the 'results' folder, with structured order.\n",
    "\n",
    "    :param incident_cards: List of incident card names, sorted by attack stage (strings only).\n",
    "    :param procedure_cards: Dictionary with keys \"established\" and \"other\", each containing a list of procedure card names (strings only).\n",
    "    :param turn_results: List of dictionaries for each turn, including: \"turn\" (int), \"procedure\" (str), \"dice_roll\" (int), \n",
    "        \"modifier\" (int), \"success\" (bool), \"consecutive_failures\" (int), optional \"revealed_incident\" (str) if an incident \n",
    "        card was revealed, and optional \"inject\" (str) if triggered.\n",
    "    :param final_result: String indicating the final game outcome, either \"Victory\" or \"Loss\".\n",
    "    :param defenders: List of defender agent names (strings only) who participated in the game.\n",
    "    :return: A confirmation message with the path of the saved game results file.\n",
    "    \"\"\"\n",
    "\n",
    "    # Ensure the folder exists\n",
    "    os.makedirs('results', exist_ok=True)\n",
    "\n",
    "    # Calculate consecutive failures for each turn\n",
    "    failure_streak = 0\n",
    "    for turn in turn_results:\n",
    "        if not turn.get(\"success\", False):\n",
    "            failure_streak += 1\n",
    "        else:\n",
    "            failure_streak = 0\n",
    "        turn[\"consecutive_failures\"] = failure_streak\n",
    "\n",
    "    # Prepare game data in structured order\n",
    "    game_data = {\n",
    "        \"defenders\": defenders,\n",
    "        \"incident_cards\": incident_cards,\n",
    "        \"procedure_cards\": {\n",
    "            \"established\": procedure_cards.get(\"established\", []),\n",
    "            \"other\": procedure_cards.get(\"other\", [])\n",
    "        },\n",
    "        \"turn_results\": turn_results,\n",
    "        \"summary\": {\n",
    "            \"total_turns_played\": len(turn_results),\n",
    "            \"final_result\": final_result\n",
    "        }\n",
    "    }\n",
    "\n",
    "    # Save data to JSON file\n",
    "    filename = f\"results/results_{base_filename}.json\"\n",
    "    with open(filename, 'w') as f:\n",
    "        json.dump(game_data, f, indent=2)\n",
    "\n",
    "    # Return confirmation message\n",
    "    return f\"Game results saved to {filename}\""
   ]
  },
  {
   "cell_type": "markdown",
   "metadata": {},
   "source": [
    "## Registering Tools"
   ]
  },
  {
   "cell_type": "code",
   "execution_count": null,
   "metadata": {},
   "outputs": [],
   "source": [
    "from autogen import UserProxyAgent, register_function"
   ]
  },
  {
   "cell_type": "code",
   "execution_count": null,
   "metadata": {},
   "outputs": [],
   "source": [
    "tool_executor = UserProxyAgent(\n",
    "    name=\"Tool_Executor\",\n",
    "    llm_config=False,\n",
    "    code_execution_config=False,\n",
    "    human_input_mode=\"NEVER\",\n",
    "    description=(\n",
    "        \"A dedicated agent responsible for executing specific game functions. \"\n",
    "        \"Handles tool-related requests from the Incident Captain, such as drawing cards and rolling a dice \"\n",
    "        \"as needed during gameplay. This agent operates silently, \"\n",
    "        \"only responding to tool execution calls without participating in general discussions.\"\n",
    "    )\n",
    ")"
   ]
  },
  {
   "cell_type": "code",
   "execution_count": null,
   "metadata": {},
   "outputs": [],
   "source": [
    "print(tool_executor.description)"
   ]
  },
  {
   "cell_type": "code",
   "execution_count": null,
   "metadata": {},
   "outputs": [],
   "source": [
    "for tools in [draw_inject_card, roll_dice, save_game_results]:\n",
    "    register_function(\n",
    "        f=tools,\n",
    "        caller=incident_captain,\n",
    "        executor=tool_executor,\n",
    "        name=tools.__name__,\n",
    "        description=tools.__doc__,\n",
    "    )"
   ]
  },
  {
   "cell_type": "code",
   "execution_count": null,
   "metadata": {},
   "outputs": [],
   "source": [
    "incident_captain.llm_config[\"tools\"]"
   ]
  },
  {
   "cell_type": "markdown",
   "metadata": {},
   "source": [
    "## Creating a Group Chat"
   ]
  },
  {
   "cell_type": "code",
   "execution_count": null,
   "metadata": {},
   "outputs": [],
   "source": [
    "from autogen import GroupChat, GroupChatManager"
   ]
  },
  {
   "cell_type": "code",
   "execution_count": null,
   "metadata": {},
   "outputs": [],
   "source": [
    "allowed_transitions = {\n",
    "    incident_captain: [incident_captain, tool_executor] + defenders,\n",
    "    tool_executor: [incident_captain],\n",
    "}\n",
    "allowed_transitions.update({\n",
    "    defender: [incident_captain] + defenders for defender in defenders\n",
    "})"
   ]
  },
  {
   "cell_type": "code",
   "execution_count": null,
   "metadata": {},
   "outputs": [],
   "source": [
    "group_chat = GroupChat(\n",
    "    agents=[incident_captain, tool_executor] + defenders,\n",
    "    messages=[],\n",
    "    max_round=1000,\n",
    "    send_introductions=True,\n",
    "    speaker_selection_method=\"auto\",\n",
    "    speaker_transitions_type=\"allowed\",\n",
    "    allowed_or_disallowed_speaker_transitions=allowed_transitions,\n",
    ")"
   ]
  },
  {
   "cell_type": "code",
   "execution_count": null,
   "metadata": {},
   "outputs": [],
   "source": [
    "group_chat_manager = GroupChatManager(\n",
    "    name=\"Group_Chat_Manager\",\n",
    "    groupchat=group_chat,\n",
    "    llm_config=llm_config,\n",
    "    human_input_mode=\"NEVER\",\n",
    "    is_termination_msg=lambda msg: \"END_GAME\" in msg[\"content\"],\n",
    ")"
   ]
  },
  {
   "cell_type": "markdown",
   "metadata": {},
   "source": [
    "## Playing the Game"
   ]
  },
  {
   "cell_type": "code",
   "execution_count": null,
   "metadata": {},
   "outputs": [],
   "source": [
    "chat_result = group_chat_manager.initiate_chat(\n",
    "    recipient=incident_captain,\n",
    "    message=(\n",
    "        \"Welcome to the Backdoors & Breaches game! You are the Incident Captain. \"\n",
    "        \"Please begin by setting the stage for our Defenders: select and describe the breach scenario based on the \"\n",
    "        \"Initial Compromise card, providing context without revealing specific details.\\n\\n\"\n",
    "        \"Once the scenario is set, introduce the available Procedure cards, including which are Established and \"\n",
    "        \"which are Other Procedures. The Defenders are ready and waiting to start their investigation.\"\n",
    "    ),\n",
    "    max_turns=None,\n",
    ")"
   ]
  },
  {
   "cell_type": "markdown",
   "metadata": {},
   "source": [
    "## Saving Messages"
   ]
  },
  {
   "cell_type": "code",
   "execution_count": null,
   "metadata": {},
   "outputs": [],
   "source": [
    "os.makedirs('results', exist_ok=True)\n",
    "chat_filename = f\"results/chat_{base_filename}.json\"\n",
    "print(chat_filename)"
   ]
  },
  {
   "cell_type": "code",
   "execution_count": null,
   "metadata": {},
   "outputs": [],
   "source": [
    "with open(chat_filename, 'w') as f:\n",
    "    json.dump(incident_captain.chat_messages[group_chat_manager], f, indent=2)\n",
    "print(f\"Chat messages saved to {chat_filename}\")"
   ]
  },
  {
   "cell_type": "code",
   "execution_count": null,
   "metadata": {},
   "outputs": [],
   "source": []
  }
 ],
 "metadata": {
  "kernelspec": {
   "display_name": "Python 3 (ipykernel)",
   "language": "python",
   "name": "python3"
  },
  "language_info": {
   "codemirror_mode": {
    "name": "ipython",
    "version": 3
   },
   "file_extension": ".py",
   "mimetype": "text/x-python",
   "name": "python",
   "nbconvert_exporter": "python",
   "pygments_lexer": "ipython3",
   "version": "3.10.15"
  }
 },
 "nbformat": 4,
 "nbformat_minor": 4
}